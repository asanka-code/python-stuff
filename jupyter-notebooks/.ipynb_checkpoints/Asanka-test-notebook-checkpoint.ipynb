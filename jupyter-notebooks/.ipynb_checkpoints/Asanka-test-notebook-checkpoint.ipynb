{
 "cells": [
  {
   "cell_type": "markdown",
   "metadata": {},
   "source": [
    "# Simple Demonstation\n",
    "\n",
    "## 1. Hello World Program\n",
    "This is a simple demonstration of how things work in a Jupyter notebook. Let's start with a simple hello world program.\n"
   ]
  },
  {
   "cell_type": "code",
   "execution_count": 1,
   "metadata": {},
   "outputs": [
    {
     "name": "stdout",
     "output_type": "stream",
     "text": [
      "Hello world!\n"
     ]
    }
   ],
   "source": [
    "print(\"Hello world!\")"
   ]
  },
  {
   "cell_type": "markdown",
   "metadata": {},
   "source": [
    "## 2. A Simple Loop\n",
    "\n",
    "In the following code, we are demonstrating a simple for loop and a while loop."
   ]
  },
  {
   "cell_type": "code",
   "execution_count": 2,
   "metadata": {},
   "outputs": [
    {
     "name": "stdout",
     "output_type": "stream",
     "text": [
      "Step = 0\n",
      "Step = 1\n",
      "Step = 2\n",
      "Step = 3\n",
      "Step = 4\n"
     ]
    }
   ],
   "source": [
    "for i in range(0,5):\n",
    "    print(\"Step = %d\" % i)"
   ]
  },
  {
   "cell_type": "markdown",
   "metadata": {},
   "source": [
    "## 3. Plotting a Simple Graph\n",
    "\n",
    "In this section, a simple graph which plots some data."
   ]
  },
  {
   "cell_type": "code",
   "execution_count": 3,
   "metadata": {
    "scrolled": true
   },
   "outputs": [],
   "source": [
    "import numpy as np\n",
    "import matplotlib.pyplot as plt\n",
    "\n",
    "x = np.arange(-3.14, 3.14, 0.01)\n",
    "y1 = np.sin(x)\n",
    "y2 = np.cos(x)\n",
    "\n",
    "plt.figure(figsize=(5,5))\n",
    "plt.subplot(2,1,1)\n",
    "plt.plot(x,y1,label=\"sin(x)\")\n",
    "plt.plot(x,y2,label=\"cos(x)\")\n",
    "plt.xlabel('x')\n",
    "plt.legend()\n",
    "plt.grid()\n",
    "plt.title(\"The Title of the Graph\")\n",
    "\n",
    "plt.subplots_adjust(wspace=0, hspace=0.5)\n",
    "\n",
    "plt.subplot(2,1,2)\n",
    "plt.plot(x,y1,label=\"sin(x)\")\n",
    "plt.plot(x,y2,label=\"cos(x)\")\n",
    "plt.xlabel('x')\n",
    "plt.legend()\n",
    "plt.grid()\n",
    "plt.title(\"The Title of the Graph\")\n",
    "\n",
    "#plt.show()\n",
    "plt.savefig(\"graph.pdf\")\n"
   ]
  },
  {
   "cell_type": "markdown",
   "metadata": {},
   "source": [
    "## 4. A Function to Plot Another Graph\n",
    "\n",
    "In this section, we are writing a function which can be used to plot a graph."
   ]
  },
  {
   "cell_type": "code",
   "execution_count": 4,
   "metadata": {},
   "outputs": [],
   "source": [
    "def plotGraph():\n",
    "    plt.figure()\n",
    "    plt.subplot()\n",
    "    x = np.arange(10)\n",
    "    y = x*x\n",
    "    plt.plot(x,y)\n",
    "    plt.xlabel('x axis')\n",
    "    plt.ylabel('y axis')\n",
    "    plt.show()"
   ]
  },
  {
   "cell_type": "markdown",
   "metadata": {},
   "source": [
    "## 5. Run the plotting Function\n",
    "\n",
    "Now we are calling the function defined previously to get the output."
   ]
  },
  {
   "cell_type": "code",
   "execution_count": 5,
   "metadata": {},
   "outputs": [
    {
     "data": {
      "image/png": "[encoded data removed]",
      "text/plain": [
       "<Figure size 432x288 with 1 Axes>"
      ]
     },
     "metadata": {
      "needs_background": "light"
     },
     "output_type": "display_data"
    }
   ],
   "source": [
    "plotGraph()"
   ]
  },
  {
   "cell_type": "markdown",
   "metadata": {},
   "source": [
    "That's the end of this notebook demonstration."
   ]
  },
  {
   "cell_type": "code",
   "execution_count": null,
   "metadata": {},
   "outputs": [],
   "source": []
  }
 ],
 "metadata": {
  "kernelspec": {
   "display_name": "Python 3",
   "language": "python",
   "name": "python3"
  },
  "language_info": {
   "codemirror_mode": {
    "name": "ipython",
    "version": 3
   },
   "file_extension": ".py",
   "mimetype": "text/x-python",
   "name": "python",
   "nbconvert_exporter": "python",
   "pygments_lexer": "ipython3",
   "version": "3.7.0"
  }
 },
 "nbformat": 4,
 "nbformat_minor": 2
}
